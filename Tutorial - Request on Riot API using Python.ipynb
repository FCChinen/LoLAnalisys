{
 "cells": [
  {
   "cell_type": "markdown",
   "metadata": {},
   "source": [
    "<h1 style = \"Color:red\"> Tutorial - How to use RIOT API using Python</h1>\n",
    "\n",
    "On the moment I'm writing this sentence, I know almost nothing about RIOT API and how to request the information in python. The only thing I did was read the links: https://developer.riotgames.com/docs/portal and https://developer.riotgames.com/docs/lol.\n",
    "\n",
    "Since the format that the requests outputs is .JSON, I'll use Python, because will be easier to manipulate the data.\n",
    "    \n",
    "With that said, I'll include the links and the codes that I'll create, incrementally."
   ]
  },
  {
   "cell_type": "markdown",
   "metadata": {},
   "source": [
    "The first step is to learn how to the API works. So, after you register in the Riot site(https://developer.riotgames.com/) you'll get access to the API's.\n",
    "\n",
    "After I looked into it, the most basic API is the SUMMONER-V4 and the most basic operand(In my opinion) is the one that gets the summoner info using the summoner name as a parameter:\n",
    "\n",
    "/lol/summoner/v4/summoners/by-name/{summonerName}\n",
    "\n",
    "You can use the site to send the requests and get the data manually(Please don't) and on the same page has the documentation of the information that you need to use and the output."
   ]
  },
  {
   "cell_type": "markdown",
   "metadata": {},
   "source": [
    "<h2 style = \"Color:blue\"> Getting the first info </h2>\n",
    "\n",
    "So using the website, you can get the request URL, headers, code, response headers, response body. On our case, what really matters is only the request URL(That we will use on the python script) and the response body(That contains the data)"
   ]
  },
  {
   "cell_type": "markdown",
   "metadata": {},
   "source": [
    "So the request format is: https://\"Your server\".api.riotgames.com/lol/summoner/v4/summoners/by-name/\"Summoner nick\"?api_key=\"Your API Key\"\n",
    "\n",
    "\"Your server\" is the server of the summoner.\n",
    "\n",
    "\"Summoner nick\" is the nick of the summoner.\n",
    "\n",
    "\"Your API Key\" is your API key(The one that Riot gave to you).\n",
    "\n",
    "And the data has the format:\n",
    "\n",
    "{\n",
    "    \n",
    "    \"profileIconId\": \"Current profile icon\", #Type = int\n",
    "    \"name\": \"Summoner Nick\", #Type = string\n",
    "    \"puuid\": \"The encrypted ID that has exactly 78 characters lenth\", #Type = string\n",
    "    \"summonerLevel\": \"Summoner level\", #Type = long\n",
    "    \"accountId\": \"Encrypted summoner ID\", #Type = string\n",
    "    \"id\": \"Encrypted account ID\", #Type\n",
    "    \"revisionDate\": \"Probably something that defines the date(?)\", #Type = long(?)\n",
    "    \n",
    "}\n"
   ]
  },
  {
   "cell_type": "markdown",
   "metadata": {},
   "source": [
    "So now that we got the format of the request and the response, we have to learn how to use python to do the requests and store the proper info.\n",
    "\n",
    "The first library that I found was urlib and python version that I'm using is https://docs.python.org/3.7/library/urllib.html.\n",
    "To decode the .JSON obtained on the response, we will use the json library. The full documentation is found here: https://docs.python.org/3/library/json.html\n",
    "\n",
    "So I'll be using for the first code."
   ]
  },
  {
   "cell_type": "code",
   "execution_count": 41,
   "metadata": {},
   "outputs": [],
   "source": [
    "import urllib.request # Importing the module request\n",
    "import json # Import the library that handles .json format\n",
    "\n",
    "# Getting information for the request\n",
    "region = \"br1\"\n",
    "name = \"Chinen\"\n",
    "key = \"Your key here\"\n",
    "\n",
    "# Creating the url to request(GET)\n",
    "request = \"https://\"+region+\".api.riotgames.com/lol/summoner/v4/summoners/by-name/\"+name+\"?api_key=\"+key\n",
    "\n",
    "# Calling the request using the urlopen. Note: We are expecting that your query will return a valid response!!\n",
    "# If its not working, try it out on the website! For now, we're not treating errors.\n",
    "with urllib.request.urlopen(request) as response: #How does \"with as\" works? https://effbot.org/zone/python-with-statement.htm\n",
    "    data = json.loads(response.read(300).decode('utf-8')) # The charset used is utf-8 and you can look it on the response header"
   ]
  },
  {
   "cell_type": "markdown",
   "metadata": {},
   "source": [
    "So now, the information is stored on the variable called data.\n",
    "The variable data is a dict. So for you to access the data, simply call: data['atribute']"
   ]
  },
  {
   "cell_type": "markdown",
   "metadata": {},
   "source": [
    "<h1 style = 'Color:blue'> Using the info to use the other request </h1>\n",
    "\n",
    "So now, we're gonna test the following requests:\n",
    "\n",
    "/lol/summoner/v4/summoners/by-account/{encryptedAccountId}\n",
    "\n",
    "/lol/summoner/v4/summoners/by-puuid/{encryptedPUUID}\n",
    "\n",
    "/lol/summoner/v4/summoners/{encryptedSummonerId}\n",
    "\n",
    "So, basically we're gonna use the info on the variable called data."
   ]
  },
  {
   "cell_type": "code",
   "execution_count": 43,
   "metadata": {},
   "outputs": [
    {
     "name": "stdout",
     "output_type": "stream",
     "text": [
      "{\n",
      "       \"id\": \"9rBjBXxhkQk4WgZy9IdYOS3rPMvFMghThRWADa-CoXPf\",\n",
      "       \"accountId\": \"PJOkubvbPWpniJ9p02SF1meovFvLLluof1R85shF5fc\",\n",
      "       \"puuid\": \"sXIzTHBtHhvB7F5Tm9nCTHGT46VtsbFOT8Olo5sFtb_8mbFi4B1ytBYLzJuDH9sgg4JC1UBiAUc6BA\",\n",
      "       \"name\": \"Chinen\",\n",
      "       \"profileIconId\": 523,\n",
      "       \"revisionDate\": 1572118472000,\n",
      "       \"summonerLevel\": 120\n",
      "}\n"
     ]
    }
   ],
   "source": [
    "# A pretty printing https://docs.python.org/3/library/json.html#basic-usage\n",
    "print(json.dumps(data, indent = 7))"
   ]
  },
  {
   "cell_type": "code",
   "execution_count": 46,
   "metadata": {},
   "outputs": [
    {
     "name": "stdout",
     "output_type": "stream",
     "text": [
      "{\n",
      "       \"id\": \"9rBjBXxhkQk4WgZy9IdYOS3rPMvFMghThRWADa-CoXPf\",\n",
      "       \"accountId\": \"PJOkubvbPWpniJ9p02SF1meovFvLLluof1R85shF5fc\",\n",
      "       \"puuid\": \"sXIzTHBtHhvB7F5Tm9nCTHGT46VtsbFOT8Olo5sFtb_8mbFi4B1ytBYLzJuDH9sgg4JC1UBiAUc6BA\",\n",
      "       \"name\": \"Chinen\",\n",
      "       \"profileIconId\": 523,\n",
      "       \"revisionDate\": 1572118472000,\n",
      "       \"summonerLevel\": 120\n",
      "}\n"
     ]
    }
   ],
   "source": [
    "# /lol/summoner/v4/summoners/by-account/{encryptedAccountId}\n",
    "\n",
    "request = \"https://\"+region+\".api.riotgames.com/lol/summoner/v4/summoners/by-account/\"+data['accountId']+\"?api_key=\"+key\n",
    "\n",
    "with urllib.request.urlopen(request) as response:\n",
    "    data2 = json.loads(response.read(300).decode('utf-8'))\n",
    "print(json.dumps(data2, indent = len(data2)))"
   ]
  },
  {
   "cell_type": "code",
   "execution_count": 47,
   "metadata": {},
   "outputs": [
    {
     "name": "stdout",
     "output_type": "stream",
     "text": [
      "{\n",
      "       \"id\": \"9rBjBXxhkQk4WgZy9IdYOS3rPMvFMghThRWADa-CoXPf\",\n",
      "       \"accountId\": \"PJOkubvbPWpniJ9p02SF1meovFvLLluof1R85shF5fc\",\n",
      "       \"puuid\": \"sXIzTHBtHhvB7F5Tm9nCTHGT46VtsbFOT8Olo5sFtb_8mbFi4B1ytBYLzJuDH9sgg4JC1UBiAUc6BA\",\n",
      "       \"name\": \"Chinen\",\n",
      "       \"profileIconId\": 523,\n",
      "       \"revisionDate\": 1572118472000,\n",
      "       \"summonerLevel\": 120\n",
      "}\n"
     ]
    }
   ],
   "source": [
    "# /lol/summoner/v4/summoners/by-puuid/{encryptedPUUID}\n",
    "\n",
    "request = \"https://\"+region+\".api.riotgames.com/lol/summoner/v4/summoners/by-puuid/\"+data['puuid']+\"?api_key=\"+key\n",
    "\n",
    "with urllib.request.urlopen(request) as response:\n",
    "    data3 = json.loads(response.read(300).decode('utf-8'))\n",
    "print(json.dumps(data3, indent = len(data3)))"
   ]
  },
  {
   "cell_type": "code",
   "execution_count": 48,
   "metadata": {},
   "outputs": [
    {
     "name": "stdout",
     "output_type": "stream",
     "text": [
      "{\n",
      "       \"id\": \"9rBjBXxhkQk4WgZy9IdYOS3rPMvFMghThRWADa-CoXPf\",\n",
      "       \"accountId\": \"PJOkubvbPWpniJ9p02SF1meovFvLLluof1R85shF5fc\",\n",
      "       \"puuid\": \"sXIzTHBtHhvB7F5Tm9nCTHGT46VtsbFOT8Olo5sFtb_8mbFi4B1ytBYLzJuDH9sgg4JC1UBiAUc6BA\",\n",
      "       \"name\": \"Chinen\",\n",
      "       \"profileIconId\": 523,\n",
      "       \"revisionDate\": 1572118472000,\n",
      "       \"summonerLevel\": 120\n",
      "}\n"
     ]
    }
   ],
   "source": [
    "# /lol/summoner/v4/summoners/{encryptedSummonerId}\n",
    "\n",
    "request = \"https://\"+region+\".api.riotgames.com/lol/summoner/v4/summoners/\"+data['id']+\"?api_key=\"+key\n",
    "\n",
    "with urllib.request.urlopen(request) as response:\n",
    "    data4 = json.loads(response.read(300).decode('utf-8'))\n",
    "print(json.dumps(data4, indent = len(data4)))"
   ]
  },
  {
   "cell_type": "markdown",
   "metadata": {},
   "source": []
  }
 ],
 "metadata": {
  "kernelspec": {
   "display_name": "Python 3",
   "language": "python",
   "name": "python3"
  },
  "language_info": {
   "codemirror_mode": {
    "name": "ipython",
    "version": 3
   },
   "file_extension": ".py",
   "mimetype": "text/x-python",
   "name": "python",
   "nbconvert_exporter": "python",
   "pygments_lexer": "ipython3",
   "version": "3.7.4"
  }
 },
 "nbformat": 4,
 "nbformat_minor": 2
}
