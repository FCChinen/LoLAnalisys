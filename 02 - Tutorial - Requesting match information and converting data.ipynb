{
 "cells": [
  {
   "cell_type": "markdown",
   "metadata": {},
   "source": [
    "# 02 - Tutorial - Requesting match information and converting data."
   ]
  },
  {
   "cell_type": "markdown",
   "metadata": {},
   "source": [
    "In the last tutorial, we learned:\n",
    "- How to do a request on Riot API\n",
    "- How to use urllib.request module to make a request on a site\n",
    "- How to use JSON, dump and loads module to serialize and unserialize data, respectively.\n",
    "- The format that url will be to make an request\n",
    "- The format that the response will be\n",
    "\n",
    "Now, we're gonna try to use another API to get useful information."
   ]
  },
  {
   "cell_type": "markdown",
   "metadata": {},
   "source": [
    "# Step 1 : Checking out the format of the output of the next API\n",
    "\n",
    "The next API that we're gonna study is: \n",
    "\n",
    "/lol/match/v4/matchlists/by-account/{encryptedAccountId} \n",
    "\n",
    "On the MATCH-V4 tab.(https://developer.riotgames.com/apis#match-v4/GET_getMatchlist)\n",
    "\n",
    "The only required parameter is encryptedAccountID, but, we wanna take a look on the output format.\n",
    "If you read the IMPLEMENTATION NOTES, you're gonna find out, that this request, returns more than 1 game, as default.\n",
    "The parameters that indicate how many games you're gonna get are:\n",
    "\n",
    "beginIndex = (default = 0)\n",
    "endIndex = (maximun = beginIndex+100)(default = beginIndex + 100)\n",
    "\n",
    "I'm not going to talk about the other parameters for now. It's not relevant for the next step."
   ]
  },
  {
   "cell_type": "markdown",
   "metadata": {},
   "source": [
    "So, we're gonna reuse the code from tutorial 01 to get the data, making some modifications to the new API."
   ]
  },
  {
   "cell_type": "code",
   "execution_count": 1,
   "metadata": {},
   "outputs": [
    {
     "name": "stdout",
     "output_type": "stream",
     "text": [
      "{\n",
      "       \"id\": \"9rBjBXxhkQk4WgZy9IdYOS3rPMvFMghThRWADa-CoXPf\",\n",
      "       \"accountId\": \"PJOkubvbPWpniJ9p02SF1meovFvLLluof1R85shF5fc\",\n",
      "       \"puuid\": \"sXIzTHBtHhvB7F5Tm9nCTHGT46VtsbFOT8Olo5sFtb_8mbFi4B1ytBYLzJuDH9sgg4JC1UBiAUc6BA\",\n",
      "       \"name\": \"Chinen\",\n",
      "       \"profileIconId\": 523,\n",
      "       \"revisionDate\": 1572382204000,\n",
      "       \"summonerLevel\": 121\n",
      "}\n"
     ]
    }
   ],
   "source": [
    "import json # Import the library that handles .json format\n",
    "\n",
    "# Getting information for the request\n",
    "with open('01-summonerinfo.txt', 'r') as d:\n",
    "    summonerInfo = json.loads(d.read())\n",
    "print(json.dumps(summonerInfo, indent = 7))"
   ]
  },
  {
   "cell_type": "markdown",
   "metadata": {},
   "source": [
    "If you remember from the last tutorial, the encryptedAccountId needed for this new API is the value of \"accountId\". So we're gonna use it to get the next request"
   ]
  },
  {
   "cell_type": "code",
   "execution_count": 2,
   "metadata": {},
   "outputs": [],
   "source": [
    "import urllib.request # Importing the module request\n",
    "import json # Import the library that handles .json format\n",
    "\n",
    "# Getting information for the request\n",
    "region = \"br1\"\n",
    "key = \"You-Code-Here\"\n",
    "#beginIndex is default 0, so we only need to specify the endIndex\n",
    "endIndex = \"1\"\n",
    "\n",
    "# Creating the url to request(GET)\n",
    "request = \"https://\"+region+\".api.riotgames.com/lol/match/v4/matchlists/by-account/\"+summonerInfo['accountId']+\"?api_key=\"+key+'&endIndex='+endIndex\n",
    "\n",
    "with urllib.request.urlopen(request) as response:\n",
    "    data = json.loads(response.read(300).decode('utf-8'))"
   ]
  },
  {
   "cell_type": "code",
   "execution_count": 3,
   "metadata": {},
   "outputs": [
    {
     "name": "stdout",
     "output_type": "stream",
     "text": [
      "{\n",
      " \"matches\": [\n",
      "  {\n",
      "   \"platformId\": \"BR1\",\n",
      "   \"gameId\": 1785767421,\n",
      "   \"champion\": 31,\n",
      "   \"queue\": 900,\n",
      "   \"season\": 13,\n",
      "   \"timestamp\": 1573149951388,\n",
      "   \"role\": \"DUO_SUPPORT\",\n",
      "   \"lane\": \"NONE\"\n",
      "  }\n",
      " ],\n",
      " \"startIndex\": 0,\n",
      " \"endIndex\": 1,\n",
      " \"totalGames\": 149\n",
      "}\n"
     ]
    }
   ],
   "source": [
    "json.dumps(data, indent = 1)\n",
    "print(json.dumps(data, indent = 1))"
   ]
  },
  {
   "cell_type": "markdown",
   "metadata": {},
   "source": [
    "As you can see, most of the information are numbers. Those information can be found in the 2 sites:\n",
    "\n",
    "https://developer.riotgames.com/docs/lol\n",
    "https://developer.riotgames.com/apis#match-v4/GET_getMatchlist"
   ]
  },
  {
   "cell_type": "markdown",
   "metadata": {},
   "source": [
    "# Timestamp\n",
    "The first atribute that we're gonna convert, is the timestamp.\n",
    "\n",
    "The timestamp is a long int, and indicates the date in milliseconds, after 1970.\n",
    "\n",
    "So we're gonna convert this time to a human inteligible date.\n",
    "\n",
    "The module that we're gonna use is datetime, from python.\n",
    "\n",
    "A good explanation is found here: https://www.pylenin.com/blogs/mastering-python-datetime/"
   ]
  },
  {
   "cell_type": "code",
   "execution_count": 4,
   "metadata": {},
   "outputs": [],
   "source": [
    "from datetime import datetime\n",
    "\n",
    "data[\"matches\"][0][\"timestamp\"] = datetime.fromtimestamp(data[\"matches\"][0][\"timestamp\"]//1000) # We're gonna divide the number for 1000 to get the UNIX standard"
   ]
  },
  {
   "cell_type": "code",
   "execution_count": 5,
   "metadata": {},
   "outputs": [
    {
     "name": "stdout",
     "output_type": "stream",
     "text": [
      "2019-11-07 15:05:51\n"
     ]
    }
   ],
   "source": [
    "print(data[\"matches\"][0][\"timestamp\"])"
   ]
  },
  {
   "cell_type": "markdown",
   "metadata": {},
   "source": [
    "As you can see, the format is still not in a good format(BR Time is UTC - 3), so we have to convert it again."
   ]
  },
  {
   "cell_type": "code",
   "execution_count": 6,
   "metadata": {},
   "outputs": [
    {
     "name": "stdout",
     "output_type": "stream",
     "text": [
      "2019-11-07 18:05:51\n"
     ]
    }
   ],
   "source": [
    "from datetime import datetime,timedelta\n",
    "\n",
    "timediff = timedelta(hours = 3)\n",
    "\n",
    "data[\"matches\"][0][\"timestamp\"] = data[\"matches\"][0][\"timestamp\"] + timediff\n",
    "\n",
    "print(data[\"matches\"][0][\"timestamp\"])"
   ]
  },
  {
   "cell_type": "markdown",
   "metadata": {},
   "source": [
    "Now we're going to transform this data into a string, to be serializable"
   ]
  },
  {
   "cell_type": "code",
   "execution_count": 7,
   "metadata": {},
   "outputs": [],
   "source": [
    "data[\"matches\"][0][\"timestamp\"] = str(data[\"matches\"][0][\"timestamp\"])"
   ]
  },
  {
   "cell_type": "markdown",
   "metadata": {},
   "source": [
    "So now the date is in a good format."
   ]
  },
  {
   "cell_type": "markdown",
   "metadata": {},
   "source": [
    "# Champion\n",
    "The next atribute that we're going to change is the champion. We can find the information about the conversion this integer to a string(name) in the site:\n",
    "https://developer.riotgames.com/docs/lol#data-dragon_champions"
   ]
  },
  {
   "cell_type": "markdown",
   "metadata": {},
   "source": [
    "The first thing that we're going to do is to download the information from the site."
   ]
  },
  {
   "cell_type": "code",
   "execution_count": 17,
   "metadata": {},
   "outputs": [],
   "source": [
    "import urllib.request\n",
    "\n",
    "with urllib.request.urlopen(\"http://ddragon.leagueoflegends.com/cdn/9.21.1/data/en_US/champion.json\") as site:\n",
    "    with open('champion.json', 'w') as file:\n",
    "        json.dump(json.load(site), file, indent = 1)\n",
    "        \n",
    "with open('champion.json', 'r') as file:\n",
    "    championInfo = json.load(file)"
   ]
  },
  {
   "cell_type": "markdown",
   "metadata": {},
   "source": [
    "The data downloaded is too big to insert in this notebook. Feel free to open the file and investigate(But I will too).\n",
    "The information that we are looking for are inside on championInfo['data']['Name of the champion']['key']"
   ]
  },
  {
   "cell_type": "code",
   "execution_count": 23,
   "metadata": {},
   "outputs": [
    {
     "name": "stdout",
     "output_type": "stream",
     "text": [
      "266\n"
     ]
    }
   ],
   "source": [
    "print(str(championInfo['data']['Aatrox']['key']))"
   ]
  },
  {
   "cell_type": "markdown",
   "metadata": {},
   "source": [
    "As you can see, the key code for Aatrox is 266.\n",
    "So we're now, going to change all the number for the names of the champion on the data."
   ]
  },
  {
   "cell_type": "markdown",
   "metadata": {},
   "source": [
    "First, we're gonna create a dictionary, that contains the name and the key of the champion."
   ]
  },
  {
   "cell_type": "code",
   "execution_count": 32,
   "metadata": {},
   "outputs": [],
   "source": [
    "champ_dict = {}\n",
    "for i in range(len(championInfo['data'])):\n",
    "    for champ in championInfo['data']:\n",
    "        champ_dict[championInfo['data'][champ]['key']] = champ"
   ]
  },
  {
   "cell_type": "markdown",
   "metadata": {},
   "source": [
    "Now, we have the dictionary to use to convert the keys to champion names.\n",
    "So we're going to convert"
   ]
  },
  {
   "cell_type": "code",
   "execution_count": 33,
   "metadata": {},
   "outputs": [
    {
     "name": "stdout",
     "output_type": "stream",
     "text": [
      "31\n"
     ]
    }
   ],
   "source": [
    "for i in range(len(data['matches'])):\n",
    "    key = data['matches'][i]['champion']\n",
    "    data['matches'][i]['champion'] = champ_dict[str(key)]\n",
    "    \n",
    "# Storing the data on an archive\n",
    "with open('converted_data.json', 'w') as writing:\n",
    "    json.dump(data, writing, indent = 1)"
   ]
  },
  {
   "cell_type": "markdown",
   "metadata": {},
   "source": [
    "Now, we have the converted data."
   ]
  },
  {
   "cell_type": "code",
   "execution_count": 47,
   "metadata": {},
   "outputs": [
    {
     "name": "stdout",
     "output_type": "stream",
     "text": [
      "{\n",
      " \"matches\": [\n",
      "  {\n",
      "   \"platformId\": \"BR1\",\n",
      "   \"gameId\": 1785767421,\n",
      "   \"champion\": \"Chogath\",\n",
      "   \"queue\": 900,\n",
      "   \"season\": 13,\n",
      "   \"timestamp\": \"2019-11-07 18:05:51\",\n",
      "   \"role\": \"DUO_SUPPORT\",\n",
      "   \"lane\": \"NONE\"\n",
      "  }\n",
      " ],\n",
      " \"startIndex\": 0,\n",
      " \"endIndex\": 1,\n",
      " \"totalGames\": 149\n",
      "}\n"
     ]
    }
   ],
   "source": [
    "with open('converted_data.json', 'r') as r:\n",
    "    pp = json.load(r)\n",
    "    print(json.dumps(pp, indent = 1))"
   ]
  },
  {
   "cell_type": "markdown",
   "metadata": {},
   "source": [
    "As you can see, I played as Chogath on the date: 2019-11-07 18:05:51\n",
    "This is for now :).\n",
    "\n",
    "C ya."
   ]
  }
 ],
 "metadata": {
  "kernelspec": {
   "display_name": "Python 3",
   "language": "python",
   "name": "python3"
  },
  "language_info": {
   "codemirror_mode": {
    "name": "ipython",
    "version": 3
   },
   "file_extension": ".py",
   "mimetype": "text/x-python",
   "name": "python",
   "nbconvert_exporter": "python",
   "pygments_lexer": "ipython3",
   "version": "3.7.4"
  }
 },
 "nbformat": 4,
 "nbformat_minor": 4
}
